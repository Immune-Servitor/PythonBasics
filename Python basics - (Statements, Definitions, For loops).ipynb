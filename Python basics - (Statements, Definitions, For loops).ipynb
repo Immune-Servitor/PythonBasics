{
 "cells": [
  {
   "cell_type": "code",
   "execution_count": 9,
   "metadata": {},
   "outputs": [
    {
     "name": "stdout",
     "output_type": "stream",
     "text": [
      "Hello World!\n"
     ]
    }
   ],
   "source": [
    "'''As always lets start by printing something!'''\n",
    "print('Hello World!')"
   ]
  },
  {
   "cell_type": "code",
   "execution_count": 8,
   "metadata": {},
   "outputs": [
    {
     "name": "stdout",
     "output_type": "stream",
     "text": [
      "Enter your name: Miriam\n",
      "Hello, Miriam !\n"
     ]
    }
   ],
   "source": [
    "'''A simple  input from the user'''\n",
    "name = input('Enter your name: ')\n",
    "print('Hello,', name, '!')"
   ]
  },
  {
   "cell_type": "code",
   "execution_count": 7,
   "metadata": {},
   "outputs": [
    {
     "name": "stdout",
     "output_type": "stream",
     "text": [
      "Enter a number:1\n",
      "Enter a second number:5\n",
      "The sum of both numbers is: 6\n"
     ]
    }
   ],
   "source": [
    "'''Let's take in 2 numbers from the user and sum them '''\n",
    "# When we just use input we get the concentration of both strings\n",
    "# We need to specify what we are inputing so we add int() in front!\n",
    "num1 = int(input('Enter a number:'))\n",
    "num2 = int(input('Enter a second number:'))\n",
    "print('The sum of both numbers is:', num1 + num2)"
   ]
  },
  {
   "cell_type": "code",
   "execution_count": 6,
   "metadata": {},
   "outputs": [
    {
     "name": "stdout",
     "output_type": "stream",
     "text": [
      "Enter your first number:1\n",
      "Enter your second number:2\n",
      "Enter your thrid number:-4\n",
      "You've entered: 1 2 -4\n",
      "The subtraction of your three numbers is: 3\n"
     ]
    }
   ],
   "source": [
    "'Exercise: Ask the user to input 3 numbers, print and subtract the numbers'\n",
    "\n",
    "num1 = int(input('Enter your first number:'))\n",
    "num2 = int(input('Enter your second number:'))\n",
    "num3 = int(input('Enter your thrid number:'))\n",
    "\n",
    "print(\"You've entered:\", num1, num2, num3)\n",
    "\n",
    "print('The subtraction of your three numbers is:', num1 - num2 - num3)"
   ]
  },
  {
   "cell_type": "code",
   "execution_count": 10,
   "metadata": {
    "scrolled": true
   },
   "outputs": [
    {
     "name": "stdout",
     "output_type": "stream",
     "text": [
      "Enter your name:Miriam\n",
      "Hello, Miriam\n",
      "Enter course homework in format HWName/course:Essay/English001\n",
      "Enter due date for your course homework in M/D:2/30\n",
      "On 2/30, you have Essay/English001 due.\n"
     ]
    }
   ],
   "source": [
    "'''Sometimes it can be a bit tidious to print multiple statements\n",
    "example:\n",
    "    print('The sum of your four numbers is', num1, '+', num2, '+'...)\n",
    "In case we want to print more than 2 numbers/strings we can have a fill\n",
    "in the blank format.\n",
    "'''\n",
    "\n",
    "'''Let's print a name and fill in the blank'''\n",
    "name = input('Enter your name:')\n",
    "opening = 'Hello, {}'.format(name)\n",
    "print(opening)\n",
    "\n",
    "\n",
    "'''Concentration of strings, by outputing due date of course and name'''\n",
    "courseHW = input('Enter course homework in format HWName/course:')\n",
    "HWDueDate = input('Enter due date for your course homework in M/D:')\n",
    "print('On {}, you have {} due.'.format(HWDueDate, courseHW))"
   ]
  },
  {
   "cell_type": "code",
   "execution_count": 25,
   "metadata": {},
   "outputs": [
    {
     "name": "stdout",
     "output_type": "stream",
     "text": [
      "Enter one number:2\n",
      "Enter a second number:3\n",
      "The sum of 2 and 3 is 5\n"
     ]
    }
   ],
   "source": [
    "'''Instead of reprinting user input sum of 2 numbers everytime we\n",
    "make a new program, we can define a function have us print it.\n",
    "\n",
    "definitions are small functions that does things. The format of definition:\n",
    "\n",
    "def defName(paramaters):\n",
    "    'Explain what the definition does'\n",
    "    do something.\n",
    "    return something\n",
    "'''\n",
    "\n",
    "def sumNum(num1, num2):\n",
    "    '''Take in two user input numbers and sums them'''\n",
    "    return print('The sum of {} and {} is {}'.format(num1, num2, num1 + num2))\n",
    "\n",
    "userNum1 = int(input('Enter one number:'))\n",
    "userNum2 = int(input('Enter a second number:'))\n",
    "\n",
    "sumNum(userNum1, userNum2)\n",
    "\n",
    "'''Here we have condensed down a few lines of code or moving repeatable lines\n",
    "of code into a function that it makes it easier when we want to call the sum\n",
    "of two numbers!\n",
    "'''"
   ]
  },
  {
   "cell_type": "code",
   "execution_count": 34,
   "metadata": {},
   "outputs": [
    {
     "name": "stdout",
     "output_type": "stream",
     "text": [
      "Enter a number to count up:5\n",
      "0\n",
      "1\n",
      "2\n",
      "3\n",
      "4\n"
     ]
    }
   ],
   "source": [
    "'''Let's say that we want to make a small program that counts down\n",
    "If we want to count up to 5 we wouldnt want to print 5 statments\n",
    "that takes up too much time and memory. What we can do is make a for loop\n",
    "'''\n",
    "\n",
    "numCount = int(input('Enter a number to count up:'))\n",
    "\n",
    "for i in range(numCount):\n",
    "    print(i)"
   ]
  },
  {
   "cell_type": "code",
   "execution_count": null,
   "metadata": {},
   "outputs": [],
   "source": []
  }
 ],
 "metadata": {
  "kernelspec": {
   "display_name": "Python 3",
   "language": "python",
   "name": "python3"
  },
  "language_info": {
   "codemirror_mode": {
    "name": "ipython",
    "version": 3
   },
   "file_extension": ".py",
   "mimetype": "text/x-python",
   "name": "python",
   "nbconvert_exporter": "python",
   "pygments_lexer": "ipython3",
   "version": "3.8.1"
  }
 },
 "nbformat": 4,
 "nbformat_minor": 4
}
